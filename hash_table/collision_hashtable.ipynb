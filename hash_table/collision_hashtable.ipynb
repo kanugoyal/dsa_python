{
  "nbformat": 4,
  "nbformat_minor": 0,
  "metadata": {
    "colab": {
      "provenance": []
    },
    "kernelspec": {
      "name": "python3",
      "display_name": "Python 3"
    },
    "language_info": {
      "name": "python"
    }
  },
  "cells": [
    {
      "cell_type": "code",
      "source": [
        "stock_prices = {\n",
        "    'march 6': 310,\n",
        "    'march 7': 340,\n",
        "    'march 8': 380,\n",
        "    'march 9': 302,\n",
        "    'march 10': 297,\n",
        "    'march 11': 323,\n",
        "    'march 17': 459\n",
        "}"
      ],
      "metadata": {
        "id": "FTS_GUt0IJ27"
      },
      "execution_count": 5,
      "outputs": []
    },
    {
      "cell_type": "code",
      "execution_count": 21,
      "metadata": {
        "id": "mC8G9b8jB6Kz"
      },
      "outputs": [],
      "source": [
        "class HashTable:\n",
        "  def __init__(self):\n",
        "    self.MAX = 10\n",
        "    self.arr = [[] for i in range(self.MAX)]   #created an array of size 100 and value 100\n",
        "\n",
        "  def get_hash(self,key) :\n",
        "    sum=0\n",
        "    for c in key:\n",
        "      sum += ord(c)\n",
        "    return sum % self.MAX\n",
        "\n",
        "  def __setitem__(self,key, val):       #python me hash ka implement h ye internally \n",
        "    h = self.get_hash(key)\n",
        "\n",
        "    found=False                                         #flag to check if value found or not\n",
        "    for idx, element in enumerate(self.arr[h]):         #enumerate hr ek index pe key and value iterate karega aand value btayega \n",
        "       if len(element)==2 and element[0]==key:\n",
        "         self.arr[h][idx]= (key,val)                     #creating new tuple for collision index to store multiple value as tuple\n",
        "         found=True\n",
        "\n",
        "    if not found:\n",
        "      self.arr[h].append((key,val))                 #array ki h location pe ye key ki value append kr dega\n",
        "\n",
        "  def __getitem__(self, key):            # function to get value of a key from hash table \n",
        "    h = self.get_hash(key)\n",
        "    for kv in self.arr[h]:\n",
        "      if kv[0] == key:\n",
        "        return kv[1]\n",
        "\n",
        "  def __delitem__(self,key):                #delete item override\n",
        "    h = self.get_hash(key)                   \n",
        "    for index, kv in enumerate(self.arr[h]):      #deleting the elment of linked list \n",
        "      if kv[0] == key:\n",
        "        print(f\"deleting element at index {index}\")\n",
        "        del self.arr[h][index]"
      ]
    },
    {
      "cell_type": "code",
      "source": [
        "t = HashTable()\n",
        "t.get_hash(\"march 6\")"
      ],
      "metadata": {
        "colab": {
          "base_uri": "https://localhost:8080/"
        },
        "id": "C3jb-3goKWQT",
        "outputId": "2e2d6621-c1cb-47d8-e6cb-44346cfd589c"
      },
      "execution_count": 22,
      "outputs": [
        {
          "output_type": "execute_result",
          "data": {
            "text/plain": [
              "9"
            ]
          },
          "metadata": {},
          "execution_count": 22
        }
      ]
    },
    {
      "cell_type": "code",
      "source": [
        "t.get_hash(\"march 17\")"
      ],
      "metadata": {
        "colab": {
          "base_uri": "https://localhost:8080/"
        },
        "id": "CwSCg6BHKefQ",
        "outputId": "09615aa4-c15d-4c51-975f-8cbf60e08497"
      },
      "execution_count": 23,
      "outputs": [
        {
          "output_type": "execute_result",
          "data": {
            "text/plain": [
              "9"
            ]
          },
          "metadata": {},
          "execution_count": 23
        }
      ]
    },
    {
      "cell_type": "code",
      "source": [
        "t[\"march 6\"]= 30\n",
        "t[\"march 7\"]= 340\n",
        "t[\"march 8\"]= 380\n",
        "t[\"march 9\"]= 302\n",
        "t[\"march 17\"]= 459"
      ],
      "metadata": {
        "id": "IwJ5SigpKh9B"
      },
      "execution_count": 24,
      "outputs": []
    },
    {
      "cell_type": "code",
      "source": [
        "t[\"march 6\"]"
      ],
      "metadata": {
        "colab": {
          "base_uri": "https://localhost:8080/"
        },
        "id": "v02dhtmYLGEi",
        "outputId": "5c00353a-fb4f-44d3-f74d-857d0ae73a09"
      },
      "execution_count": 25,
      "outputs": [
        {
          "output_type": "execute_result",
          "data": {
            "text/plain": [
              "30"
            ]
          },
          "metadata": {},
          "execution_count": 25
        }
      ]
    },
    {
      "cell_type": "code",
      "source": [
        "t[\"march 17\"]"
      ],
      "metadata": {
        "colab": {
          "base_uri": "https://localhost:8080/"
        },
        "id": "3G3RHm3dLs-z",
        "outputId": "93c8613c-6f4a-48d5-c066-2f57ff692032"
      },
      "execution_count": 26,
      "outputs": [
        {
          "output_type": "execute_result",
          "data": {
            "text/plain": [
              "459"
            ]
          },
          "metadata": {},
          "execution_count": 26
        }
      ]
    },
    {
      "cell_type": "code",
      "source": [
        "t.arr"
      ],
      "metadata": {
        "colab": {
          "base_uri": "https://localhost:8080/"
        },
        "id": "q6DU4pAQLvkK",
        "outputId": "e747ce9f-7e4e-4a4d-ffec-5e3197eed4f2"
      },
      "execution_count": 27,
      "outputs": [
        {
          "output_type": "execute_result",
          "data": {
            "text/plain": [
              "[[('march 7', 340)],\n",
              " [('march 8', 380)],\n",
              " [('march 9', 302)],\n",
              " [],\n",
              " [],\n",
              " [],\n",
              " [],\n",
              " [],\n",
              " [],\n",
              " [('march 6', 30), ('march 17', 459)]]"
            ]
          },
          "metadata": {},
          "execution_count": 27
        }
      ]
    },
    {
      "cell_type": "code",
      "source": [
        "t[\"march 6\"]= 130"
      ],
      "metadata": {
        "id": "nBXqzbcuL0pl"
      },
      "execution_count": 28,
      "outputs": []
    },
    {
      "cell_type": "code",
      "source": [
        "t.arr"
      ],
      "metadata": {
        "colab": {
          "base_uri": "https://localhost:8080/"
        },
        "id": "E-nVT4w3MA_R",
        "outputId": "eeb74b8d-b84a-4711-8115-29c507bfee11"
      },
      "execution_count": 29,
      "outputs": [
        {
          "output_type": "execute_result",
          "data": {
            "text/plain": [
              "[[('march 7', 340)],\n",
              " [('march 8', 380)],\n",
              " [('march 9', 302)],\n",
              " [],\n",
              " [],\n",
              " [],\n",
              " [],\n",
              " [],\n",
              " [],\n",
              " [('march 6', 130), ('march 17', 459)]]"
            ]
          },
          "metadata": {},
          "execution_count": 29
        }
      ]
    },
    {
      "cell_type": "code",
      "source": [
        "t[\"march 15\"]= 30"
      ],
      "metadata": {
        "id": "43MMw6HMMETy"
      },
      "execution_count": 30,
      "outputs": []
    },
    {
      "cell_type": "code",
      "source": [
        "t.arr"
      ],
      "metadata": {
        "colab": {
          "base_uri": "https://localhost:8080/"
        },
        "id": "f_bvO66LMITJ",
        "outputId": "edd863dc-ab64-48a0-c961-cd3531fdc862"
      },
      "execution_count": 31,
      "outputs": [
        {
          "output_type": "execute_result",
          "data": {
            "text/plain": [
              "[[('march 7', 340)],\n",
              " [('march 8', 380)],\n",
              " [('march 9', 302)],\n",
              " [],\n",
              " [],\n",
              " [],\n",
              " [],\n",
              " [('march 15', 30)],\n",
              " [],\n",
              " [('march 6', 130), ('march 17', 459)]]"
            ]
          },
          "metadata": {},
          "execution_count": 31
        }
      ]
    },
    {
      "cell_type": "code",
      "source": [
        "del t[\"march 6\"]"
      ],
      "metadata": {
        "colab": {
          "base_uri": "https://localhost:8080/"
        },
        "id": "yfdup9fFMJ-X",
        "outputId": "c161980b-4f38-4afc-bdee-f22aebe9799c"
      },
      "execution_count": 32,
      "outputs": [
        {
          "output_type": "stream",
          "name": "stdout",
          "text": [
            "deleting element at index 0\n"
          ]
        }
      ]
    },
    {
      "cell_type": "code",
      "source": [
        "del t[\"march 15\"]"
      ],
      "metadata": {
        "colab": {
          "base_uri": "https://localhost:8080/"
        },
        "id": "5I6-hOq4Naox",
        "outputId": "b2c7ae73-c3a4-4a08-9d12-acbe484f9c71"
      },
      "execution_count": 33,
      "outputs": [
        {
          "output_type": "stream",
          "name": "stdout",
          "text": [
            "deleting element at index 0\n"
          ]
        }
      ]
    },
    {
      "cell_type": "code",
      "source": [
        "t.arr"
      ],
      "metadata": {
        "colab": {
          "base_uri": "https://localhost:8080/"
        },
        "id": "cTnPKQL2NgSS",
        "outputId": "dfd75f5a-255f-48be-fa92-8c49ca76bf56"
      },
      "execution_count": 34,
      "outputs": [
        {
          "output_type": "execute_result",
          "data": {
            "text/plain": [
              "[[('march 7', 340)],\n",
              " [('march 8', 380)],\n",
              " [('march 9', 302)],\n",
              " [],\n",
              " [],\n",
              " [],\n",
              " [],\n",
              " [],\n",
              " [],\n",
              " [('march 17', 459)]]"
            ]
          },
          "metadata": {},
          "execution_count": 34
        }
      ]
    },
    {
      "cell_type": "code",
      "source": [
        " "
      ],
      "metadata": {
        "id": "jUmQNtkSNjje"
      },
      "execution_count": null,
      "outputs": []
    }
  ]
}