{
  "nbformat": 4,
  "nbformat_minor": 0,
  "metadata": {
    "colab": {
      "provenance": [],
      "collapsed_sections": []
    },
    "kernelspec": {
      "name": "python3",
      "display_name": "Python 3"
    },
    "language_info": {
      "name": "python"
    }
  },
  "cells": [
    {
      "cell_type": "code",
      "execution_count": 41,
      "metadata": {
        "id": "0HjpEn4fuJhM"
      },
      "outputs": [],
      "source": [
        "stock_prices = []\n",
        "with open(\"hash.csv\",\"r\") as f:\n",
        "  for line in f:\n",
        "    day,price = line.split(',')\n",
        "    price = float(price)\n",
        "    stock_prices.append([day,price])"
      ]
    },
    {
      "cell_type": "code",
      "source": [
        "stock_prices"
      ],
      "metadata": {
        "colab": {
          "base_uri": "https://localhost:8080/"
        },
        "id": "NOhLsG1avjaM",
        "outputId": "e89d788a-2039-4983-9baa-1de2304ec020"
      },
      "execution_count": 42,
      "outputs": [
        {
          "output_type": "execute_result",
          "data": {
            "text/plain": [
              "[['6-March', 310.0],\n",
              " ['7-March', 340.0],\n",
              " ['8-March', 380.0],\n",
              " ['9-March', 302.0],\n",
              " ['10-March', 297.0],\n",
              " ['11-March', 323.0],\n",
              " ['17-March', 459.0]]"
            ]
          },
          "metadata": {},
          "execution_count": 42
        }
      ]
    },
    {
      "cell_type": "code",
      "source": [
        "for element in stock_prices:\n",
        "  if element[0] == '11-March':\n",
        "    print(element[1])"
      ],
      "metadata": {
        "colab": {
          "base_uri": "https://localhost:8080/"
        },
        "id": "16VdcV1IvlN9",
        "outputId": "bcfa64d8-c48d-42ec-93e0-ea038eaeda93"
      },
      "execution_count": 43,
      "outputs": [
        {
          "output_type": "stream",
          "name": "stdout",
          "text": [
            "323.0\n"
          ]
        }
      ]
    },
    {
      "cell_type": "code",
      "source": [
        "stock_prices = {}\n",
        "with open(\"hash.csv\",\"r\") as f:\n",
        "  for line in f:\n",
        "    day,price = line.split(',')\n",
        "    price = float(price)\n",
        "    stock_prices[day]= price"
      ],
      "metadata": {
        "id": "Eg1tUdL9wTmS"
      },
      "execution_count": 45,
      "outputs": []
    },
    {
      "cell_type": "code",
      "source": [
        "stock_prices"
      ],
      "metadata": {
        "colab": {
          "base_uri": "https://localhost:8080/"
        },
        "id": "XVlAEN5wwfSm",
        "outputId": "eadd1ab0-b80f-4edd-a52e-ef1f3ee40e39"
      },
      "execution_count": 46,
      "outputs": [
        {
          "output_type": "execute_result",
          "data": {
            "text/plain": [
              "{'6-March': 310.0,\n",
              " '7-March': 340.0,\n",
              " '8-March': 380.0,\n",
              " '9-March': 302.0,\n",
              " '10-March': 297.0,\n",
              " '11-March': 323.0,\n",
              " '17-March': 459.0}"
            ]
          },
          "metadata": {},
          "execution_count": 46
        }
      ]
    },
    {
      "cell_type": "code",
      "source": [
        "stock_prices['11-March']"
      ],
      "metadata": {
        "colab": {
          "base_uri": "https://localhost:8080/"
        },
        "id": "P3X9XOirwhTw",
        "outputId": "a3c13619-1d02-4d63-bc74-f96f4b2baedb"
      },
      "execution_count": 47,
      "outputs": [
        {
          "output_type": "execute_result",
          "data": {
            "text/plain": [
              "323.0"
            ]
          },
          "metadata": {},
          "execution_count": 47
        }
      ]
    },
    {
      "cell_type": "code",
      "source": [
        "ord('a')"
      ],
      "metadata": {
        "colab": {
          "base_uri": "https://localhost:8080/"
        },
        "id": "Hsm6-o4jwnou",
        "outputId": "c933f1d7-84c5-48fb-b7b5-707dcc4500c8"
      },
      "execution_count": 48,
      "outputs": [
        {
          "output_type": "execute_result",
          "data": {
            "text/plain": [
              "97"
            ]
          },
          "metadata": {},
          "execution_count": 48
        }
      ]
    },
    {
      "cell_type": "code",
      "source": [
        "def get_hash(key):\n",
        "  sum=0\n",
        "  for c in key:\n",
        "    sum += ord(c)\n",
        "  return sum % 100"
      ],
      "metadata": {
        "id": "w0BMQKpH2SqA"
      },
      "execution_count": 49,
      "outputs": []
    },
    {
      "cell_type": "code",
      "source": [
        "get_hash('11-March')"
      ],
      "metadata": {
        "colab": {
          "base_uri": "https://localhost:8080/"
        },
        "id": "6ll7GbD69940",
        "outputId": "8b4d99af-c389-40df-ca71-16df71b8325f"
      },
      "execution_count": 50,
      "outputs": [
        {
          "output_type": "execute_result",
          "data": {
            "text/plain": [
              "34"
            ]
          },
          "metadata": {},
          "execution_count": 50
        }
      ]
    },
    {
      "cell_type": "code",
      "source": [
        "get_hash('march 11')"
      ],
      "metadata": {
        "colab": {
          "base_uri": "https://localhost:8080/"
        },
        "id": "-gIwEB-Q2oP0",
        "outputId": "bfdecf50-edb4-4b44-e1c8-6d79458eea08"
      },
      "execution_count": 51,
      "outputs": [
        {
          "output_type": "execute_result",
          "data": {
            "text/plain": [
              "53"
            ]
          },
          "metadata": {},
          "execution_count": 51
        }
      ]
    },
    {
      "cell_type": "code",
      "source": [
        "class HashTable:\n",
        "  def __init__(self):\n",
        "    self.MAX = 100\n",
        "    self.arr = [None]*self.MAX    #created an array of size 100 and value 100\n",
        "\n",
        "  def get_hash(self,key) :\n",
        "    sum=0\n",
        "    for c in key:\n",
        "      sum += ord(c)\n",
        "    return sum % self.MAX\n",
        "\n",
        "  def __setitem__(self,key, val):       #python me hash ka implement h ye internally \n",
        "    h = self.get_hash(key)\n",
        "    self.arr[h]= val                   #array ki h location pe ye key ki value store kr dega\n",
        "\n",
        "  def __getitem__(self, key):            # function to get value of a key from hash table \n",
        "    h = self.get_hash(key)\n",
        "    return self.arr[h]\n",
        "\n",
        "  def __delitem__(self,key):\n",
        "    h = self.get_hash(key)\n",
        "    self.arr[h] = None"
      ],
      "metadata": {
        "id": "Jw27deTw2tfT"
      },
      "execution_count": 52,
      "outputs": []
    },
    {
      "cell_type": "code",
      "source": [
        "h = HashTable()\n",
        "h['6-March'] = 310\n",
        "h['7-March'] = 340\n",
        "h['8-March'] = 380\n",
        "h['9-March']= 302\n",
        "h['10-March'] = 297\n",
        "h['11-March'] = 323"
      ],
      "metadata": {
        "id": "C7OQ5ZwS3rsX"
      },
      "execution_count": 53,
      "outputs": []
    },
    {
      "cell_type": "code",
      "source": [
        "h.arr"
      ],
      "metadata": {
        "colab": {
          "base_uri": "https://localhost:8080/"
        },
        "id": "9_CbF53W329I",
        "outputId": "30563c5e-b8f4-4182-df8f-081812feac53"
      },
      "execution_count": 54,
      "outputs": [
        {
          "output_type": "execute_result",
          "data": {
            "text/plain": [
              "[None,\n",
              " None,\n",
              " None,\n",
              " None,\n",
              " None,\n",
              " None,\n",
              " None,\n",
              " None,\n",
              " None,\n",
              " None,\n",
              " None,\n",
              " None,\n",
              " None,\n",
              " None,\n",
              " None,\n",
              " None,\n",
              " None,\n",
              " None,\n",
              " None,\n",
              " None,\n",
              " None,\n",
              " None,\n",
              " None,\n",
              " None,\n",
              " None,\n",
              " None,\n",
              " None,\n",
              " None,\n",
              " None,\n",
              " None,\n",
              " None,\n",
              " None,\n",
              " None,\n",
              " 297,\n",
              " 323,\n",
              " None,\n",
              " None,\n",
              " None,\n",
              " None,\n",
              " None,\n",
              " None,\n",
              " None,\n",
              " None,\n",
              " None,\n",
              " None,\n",
              " None,\n",
              " None,\n",
              " None,\n",
              " None,\n",
              " None,\n",
              " None,\n",
              " None,\n",
              " None,\n",
              " None,\n",
              " None,\n",
              " None,\n",
              " None,\n",
              " None,\n",
              " None,\n",
              " None,\n",
              " None,\n",
              " None,\n",
              " None,\n",
              " None,\n",
              " None,\n",
              " None,\n",
              " None,\n",
              " None,\n",
              " None,\n",
              " None,\n",
              " None,\n",
              " None,\n",
              " None,\n",
              " None,\n",
              " None,\n",
              " None,\n",
              " None,\n",
              " None,\n",
              " None,\n",
              " None,\n",
              " None,\n",
              " None,\n",
              " None,\n",
              " None,\n",
              " None,\n",
              " None,\n",
              " None,\n",
              " None,\n",
              " None,\n",
              " None,\n",
              " 310,\n",
              " 340,\n",
              " 380,\n",
              " 302,\n",
              " None,\n",
              " None,\n",
              " None,\n",
              " None,\n",
              " None,\n",
              " None]"
            ]
          },
          "metadata": {},
          "execution_count": 54
        }
      ]
    },
    {
      "cell_type": "code",
      "source": [
        "h['6-March']"
      ],
      "metadata": {
        "colab": {
          "base_uri": "https://localhost:8080/"
        },
        "id": "Zwsq5vgK5A_2",
        "outputId": "fc357c4b-5517-4f31-90ab-011d366474ee"
      },
      "execution_count": 55,
      "outputs": [
        {
          "output_type": "execute_result",
          "data": {
            "text/plain": [
              "310"
            ]
          },
          "metadata": {},
          "execution_count": 55
        }
      ]
    },
    {
      "cell_type": "code",
      "source": [
        "h['11-March']"
      ],
      "metadata": {
        "colab": {
          "base_uri": "https://localhost:8080/"
        },
        "id": "iRIzCsea5zeW",
        "outputId": "0dfa43d0-8b36-407a-cff0-035ee28d1ad5"
      },
      "execution_count": 56,
      "outputs": [
        {
          "output_type": "execute_result",
          "data": {
            "text/plain": [
              "323"
            ]
          },
          "metadata": {},
          "execution_count": 56
        }
      ]
    },
    {
      "cell_type": "code",
      "source": [
        "del h['11-March']"
      ],
      "metadata": {
        "id": "acbO-qcb6luY"
      },
      "execution_count": 57,
      "outputs": []
    },
    {
      "cell_type": "code",
      "source": [
        "h['11-March']"
      ],
      "metadata": {
        "id": "A-49m5mU7IKC"
      },
      "execution_count": 58,
      "outputs": []
    },
    {
      "cell_type": "code",
      "source": [
        "h.get_hash(\"6-March\")"
      ],
      "metadata": {
        "colab": {
          "base_uri": "https://localhost:8080/"
        },
        "id": "qsLBwNwx7KIs",
        "outputId": "114fe874-b788-4f8a-aaba-c8b14a238acd"
      },
      "execution_count": 59,
      "outputs": [
        {
          "output_type": "execute_result",
          "data": {
            "text/plain": [
              "90"
            ]
          },
          "metadata": {},
          "execution_count": 59
        }
      ]
    },
    {
      "cell_type": "code",
      "source": [
        "h.get_hash(\"17-March\")"
      ],
      "metadata": {
        "colab": {
          "base_uri": "https://localhost:8080/"
        },
        "id": "LcBANhmu_Wco",
        "outputId": "ae2cd8de-e5c9-410c-e536-af5b2caa565c"
      },
      "execution_count": 60,
      "outputs": [
        {
          "output_type": "execute_result",
          "data": {
            "text/plain": [
              "40"
            ]
          },
          "metadata": {},
          "execution_count": 60
        }
      ]
    },
    {
      "cell_type": "code",
      "source": [
        "h.get_hash(\"6\")"
      ],
      "metadata": {
        "colab": {
          "base_uri": "https://localhost:8080/"
        },
        "id": "a5AmvvPh_q7F",
        "outputId": "611c4024-1325-4a14-e6aa-3449e993733c"
      },
      "execution_count": 68,
      "outputs": [
        {
          "output_type": "execute_result",
          "data": {
            "text/plain": [
              "54"
            ]
          },
          "metadata": {},
          "execution_count": 68
        }
      ]
    },
    {
      "cell_type": "code",
      "source": [
        "h.get_hash(\"7-March\")"
      ],
      "metadata": {
        "colab": {
          "base_uri": "https://localhost:8080/"
        },
        "id": "M8Th_4lb_5r-",
        "outputId": "3469233b-a2e9-4f32-87ec-a75d44ff8ddf"
      },
      "execution_count": 69,
      "outputs": [
        {
          "output_type": "execute_result",
          "data": {
            "text/plain": [
              "91"
            ]
          },
          "metadata": {},
          "execution_count": 69
        }
      ]
    },
    {
      "cell_type": "code",
      "source": [
        "h.get_hash(\"16-March\")"
      ],
      "metadata": {
        "colab": {
          "base_uri": "https://localhost:8080/"
        },
        "id": "6y5CsuTcA3QK",
        "outputId": "db34fe7c-febb-4b0e-dc3f-0a83af229b28"
      },
      "execution_count": 71,
      "outputs": [
        {
          "output_type": "execute_result",
          "data": {
            "text/plain": [
              "39"
            ]
          },
          "metadata": {},
          "execution_count": 71
        }
      ]
    },
    {
      "cell_type": "code",
      "source": [
        "h.get_hash(\"310\")"
      ],
      "metadata": {
        "colab": {
          "base_uri": "https://localhost:8080/"
        },
        "id": "wkSdZ_xyA6Ek",
        "outputId": "ea1d1be7-8d27-435b-d8a8-726b853c35bd"
      },
      "execution_count": 74,
      "outputs": [
        {
          "output_type": "execute_result",
          "data": {
            "text/plain": [
              "48"
            ]
          },
          "metadata": {},
          "execution_count": 74
        }
      ]
    },
    {
      "cell_type": "code",
      "source": [],
      "metadata": {
        "id": "7zTCBQcABKUK"
      },
      "execution_count": null,
      "outputs": []
    }
  ]
}