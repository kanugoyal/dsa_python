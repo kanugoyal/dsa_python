{
  "cells": [
    {
      "cell_type": "code",
      "execution_count": 17,
      "metadata": {
        "id": "VFcwVa7JbW4o"
      },
      "outputs": [],
      "source": [
        "weather= []\n",
        "\n",
        "with open(\"nyc_weather.csv\", \"r\") as f:\n",
        "  for line in f:\n",
        "    temp = line.split(',')\n",
        "    \n",
        "    #temperature = int(temp[1])\n",
        "    weather.append(temp)"
      ]
    },
    {
      "cell_type": "code",
      "execution_count": 18,
      "metadata": {
        "colab": {
          "base_uri": "https://localhost:8080/"
        },
        "id": "vCT5CSqibgtK",
        "outputId": "753ce8b7-5a8c-490e-cfcc-5db1b2fd48a5"
      },
      "outputs": [
        {
          "data": {
            "text/plain": [
              "[['date', 'temperature(F)\\n'],\n",
              " ['Jan 1', '27\\n'],\n",
              " ['Jan 2', '31\\n'],\n",
              " ['Jan 3', '23\\n'],\n",
              " ['Jan 4', '34\\n'],\n",
              " ['Jan 5', '37\\n'],\n",
              " ['Jan 6', '38\\n'],\n",
              " ['Jan 7', '29\\n'],\n",
              " ['Jan 8', '30\\n'],\n",
              " ['Jan 9', '35\\n'],\n",
              " ['Jan 10', '30']]"
            ]
          },
          "execution_count": 18,
          "metadata": {},
          "output_type": "execute_result"
        }
      ],
      "source": [
        "weather"
      ]
    },
    {
      "cell_type": "code",
      "execution_count": 22,
      "metadata": {
        "colab": {
          "base_uri": "https://localhost:8080/"
        },
        "id": "Cg7yjsyjX088",
        "outputId": "3baa2662-0208-4f42-8a01-05b7a7bed603"
      },
      "outputs": [
        {
          "name": "stdout",
          "output_type": "stream",
          "text": [
            "Invalid temperature\n"
          ]
        }
      ],
      "source": [
        "weather= []\n",
        "\n",
        "with open(\"nyc_weather.csv\", \"r\") as f:\n",
        "  for line in f:\n",
        "    temp = line.split(',')\n",
        "    try:\n",
        "     temperature = int(temp[1])\n",
        "     weather.append(temperature)\n",
        "    except:\n",
        "      print(\"Invalid temperature\")"
      ]
    },
    {
      "cell_type": "code",
      "execution_count": 23,
      "metadata": {
        "colab": {
          "base_uri": "https://localhost:8080/"
        },
        "id": "gFBTO1xfaOjk",
        "outputId": "10e754ec-66e3-46a1-85e2-45e6641ebb59"
      },
      "outputs": [
        {
          "data": {
            "text/plain": [
              "[27, 31, 23, 34, 37, 38, 29, 30, 35, 30]"
            ]
          },
          "execution_count": 23,
          "metadata": {},
          "output_type": "execute_result"
        }
      ],
      "source": [
        "weather"
      ]
    },
    {
      "cell_type": "markdown",
      "metadata": {
        "id": "cNNGJTsFcA4M"
      },
      "source": [
        " the average temperature in first week of Jan"
      ]
    },
    {
      "cell_type": "code",
      "execution_count": 24,
      "metadata": {
        "colab": {
          "base_uri": "https://localhost:8080/"
        },
        "id": "P1BvwCKuafob",
        "outputId": "dc8325d7-4f25-4a83-8ed1-db0a91f8289a"
      },
      "outputs": [
        {
          "data": {
            "text/plain": [
              "31.4"
            ]
          },
          "execution_count": 24,
          "metadata": {},
          "output_type": "execute_result"
        }
      ],
      "source": [
        "def Average(weather):\n",
        "    return sum(weather) / len(weather)\n",
        "\n",
        "Average(weather)"
      ]
    },
    {
      "cell_type": "markdown",
      "metadata": {
        "id": "tW4Sz4dpdFz8"
      },
      "source": [
        " the maximum temperature in first 10 days of Jan"
      ]
    },
    {
      "cell_type": "code",
      "execution_count": 25,
      "metadata": {
        "colab": {
          "base_uri": "https://localhost:8080/"
        },
        "id": "LCjIXr5acz7D",
        "outputId": "539e3e4f-7898-4f83-d62b-b43f8b683264"
      },
      "outputs": [
        {
          "data": {
            "text/plain": [
              "38"
            ]
          },
          "execution_count": 25,
          "metadata": {},
          "output_type": "execute_result"
        }
      ],
      "source": [
        "max(weather)"
      ]
    },
    {
      "cell_type": "code",
      "execution_count": null,
      "metadata": {
        "id": "NBNtyaDYdBqk"
      },
      "outputs": [],
      "source": []
    },
    {
      "cell_type": "markdown",
      "metadata": {
        "id": "SB2VZWOjdUqU"
      },
      "source": [
        "2. what was the temp on Jan 9"
      ]
    },
    {
      "cell_type": "code",
      "execution_count": 33,
      "metadata": {
        "colab": {
          "base_uri": "https://localhost:8080/"
        },
        "id": "Ihx9QKuxdbGv",
        "outputId": "a53a678d-7bb8-4a3a-a561-6fba4a9a6c00"
      },
      "outputs": [
        {
          "name": "stdout",
          "output_type": "stream",
          "text": [
            "Invalid temperature\n"
          ]
        }
      ],
      "source": [
        "dictweather = {}\n",
        "\n",
        "with open(\"nyc_weather.csv\", \"r\") as f:\n",
        "  for line in f:\n",
        "    day,temp = line.split(',')\n",
        "    \n",
        "    try:\n",
        "     temperature = int(temp)\n",
        "     dictweather[day] = temperature\n",
        "    except:\n",
        "      print(\"Invalid temperature\")"
      ]
    },
    {
      "cell_type": "code",
      "execution_count": 34,
      "metadata": {
        "colab": {
          "base_uri": "https://localhost:8080/"
        },
        "id": "_Msywtvzd-8U",
        "outputId": "df02243b-904d-4a17-a6c3-9292bf1d2e07"
      },
      "outputs": [
        {
          "data": {
            "text/plain": [
              "{'Jan 1': 27,\n",
              " 'Jan 2': 31,\n",
              " 'Jan 3': 23,\n",
              " 'Jan 4': 34,\n",
              " 'Jan 5': 37,\n",
              " 'Jan 6': 38,\n",
              " 'Jan 7': 29,\n",
              " 'Jan 8': 30,\n",
              " 'Jan 9': 35,\n",
              " 'Jan 10': 30}"
            ]
          },
          "execution_count": 34,
          "metadata": {},
          "output_type": "execute_result"
        }
      ],
      "source": [
        "dictweather"
      ]
    },
    {
      "cell_type": "code",
      "execution_count": 35,
      "metadata": {
        "colab": {
          "base_uri": "https://localhost:8080/"
        },
        "id": "qVLTWHljeB-b",
        "outputId": "8c57e917-a417-4f66-f31a-8c84d43942af"
      },
      "outputs": [
        {
          "data": {
            "text/plain": [
              "35"
            ]
          },
          "execution_count": 35,
          "metadata": {},
          "output_type": "execute_result"
        }
      ],
      "source": [
        "dictweather['Jan 9']"
      ]
    },
    {
      "cell_type": "markdown",
      "metadata": {
        "id": "RpH6eJHme2RL"
      },
      "source": [
        "the temperature on Jan 4 was"
      ]
    },
    {
      "cell_type": "code",
      "execution_count": 36,
      "metadata": {
        "colab": {
          "base_uri": "https://localhost:8080/"
        },
        "id": "4vPlNI6keouO",
        "outputId": "2f812f80-0db3-42f1-f3a9-edd525a93892"
      },
      "outputs": [
        {
          "data": {
            "text/plain": [
              "34"
            ]
          },
          "execution_count": 36,
          "metadata": {},
          "output_type": "execute_result"
        }
      ],
      "source": [
        "dictweather['Jan 4']"
      ]
    },
    {
      "cell_type": "markdown",
      "metadata": {
        "id": "CDt6BVdDfcZy"
      },
      "source": [
        "3. poem.txt Contains famous poem \"Road not taken\" by poet Robert Frost. You have to read this file in python and print every word and its count as show below. Think about the best data structure that you can use to solve this problem and figure out why you selected that specific data structure."
      ]
    },
    {
      "cell_type": "code",
      "execution_count": 38,
      "metadata": {
        "colab": {
          "base_uri": "https://localhost:8080/"
        },
        "id": "1PhMchCphqtG",
        "outputId": "aec201da-7d16-467d-ad8f-69f79dbb5057"
      },
      "outputs": [
        {
          "name": "stdout",
          "output_type": "stream",
          "text": [
            "Two roads diverged in a yellow wood,\n",
            "\n",
            "And sorry I could not travel both\n",
            "\n",
            "And be one traveler, long I stood\n",
            "\n",
            "And looked down one as far as I could\n",
            "\n",
            "To where it bent in the undergrowth;\n",
            "\n",
            "\n",
            "\n",
            "Then took the other, as just as fair,\n",
            "\n",
            "And having perhaps the better claim,\n",
            "\n",
            "Because it was grassy and wanted wear;\n",
            "\n",
            "Though as for that the passing there\n",
            "\n",
            "Had worn them really about the same,\n",
            "\n",
            "\n",
            "\n",
            "And both that morning equally lay\n",
            "\n",
            "In leaves no step had trodden black.\n",
            "\n",
            "Oh, I kept the first for another day!\n",
            "\n",
            "Yet knowing how way leads on to way,\n",
            "\n",
            "I doubted if I should ever come back.\n",
            "\n",
            "\n",
            "\n",
            "I shall be telling this with a sigh\n",
            "\n",
            "Somewhere ages and ages hence:\n",
            "\n",
            "Two roads diverged in a wood, and I—\n",
            "\n",
            "I took the one less traveled by,\n",
            "\n",
            "And that has made all the difference.\n"
          ]
        }
      ],
      "source": [
        "with open(\"poem.txt\",\"r\") as f:\n",
        "  for line in f:\n",
        "    print(line)"
      ]
    },
    {
      "cell_type": "code",
      "execution_count": 37,
      "metadata": {
        "colab": {
          "base_uri": "https://localhost:8080/"
        },
        "id": "fzLmW8dIe75v",
        "outputId": "9b39bc1a-42f8-4221-e647-2c115f1637e2"
      },
      "outputs": [
        {
          "name": "stdout",
          "output_type": "stream",
          "text": [
            "two : 2\n",
            "roads : 2\n",
            "diverged : 2\n",
            "in : 4\n",
            "a : 3\n",
            "yellow : 1\n",
            "wood, : 2\n",
            "and : 9\n",
            "sorry : 1\n",
            "i : 8\n",
            "could : 2\n",
            "not : 1\n",
            "travel : 1\n",
            "both : 2\n",
            "be : 2\n",
            "one : 3\n",
            "traveler, : 1\n",
            "long : 1\n",
            "stood : 1\n",
            "looked : 1\n",
            "down : 1\n",
            "as : 5\n",
            "far : 1\n",
            "to : 2\n",
            "where : 1\n",
            "it : 2\n",
            "bent : 1\n",
            "the : 8\n",
            "undergrowth; : 1\n",
            " : 3\n",
            "then : 1\n",
            "took : 2\n",
            "other, : 1\n",
            "just : 1\n",
            "fair, : 1\n",
            "having : 1\n",
            "perhaps : 1\n",
            "better : 1\n",
            "claim, : 1\n",
            "because : 1\n",
            "was : 1\n",
            "grassy : 1\n",
            "wanted : 1\n",
            "wear; : 1\n",
            "though : 1\n",
            "for : 2\n",
            "that : 3\n",
            "passing : 1\n",
            "there : 1\n",
            "had : 2\n",
            "worn : 1\n",
            "them : 1\n",
            "really : 1\n",
            "about : 1\n",
            "same, : 1\n",
            "morning : 1\n",
            "equally : 1\n",
            "lay : 1\n",
            "leaves : 1\n",
            "no : 1\n",
            "step : 1\n",
            "trodden : 1\n",
            "black. : 1\n",
            "oh, : 1\n",
            "kept : 1\n",
            "first : 1\n",
            "another : 1\n",
            "day! : 1\n",
            "yet : 1\n",
            "knowing : 1\n",
            "how : 1\n",
            "way : 1\n",
            "leads : 1\n",
            "on : 1\n",
            "way, : 1\n",
            "doubted : 1\n",
            "if : 1\n",
            "should : 1\n",
            "ever : 1\n",
            "come : 1\n",
            "back. : 1\n",
            "shall : 1\n",
            "telling : 1\n",
            "this : 1\n",
            "with : 1\n",
            "sigh : 1\n",
            "somewhere : 1\n",
            "ages : 2\n",
            "hence: : 1\n",
            "i— : 1\n",
            "less : 1\n",
            "traveled : 1\n",
            "by, : 1\n",
            "has : 1\n",
            "made : 1\n",
            "all : 1\n",
            "difference. : 1\n"
          ]
        }
      ],
      "source": [
        "poem = {}\n",
        "text = open(\"poem.txt\",\"r\")\n",
        "for line in text:         #iterate through each line\n",
        "  line = line.strip()     #removing /n from each line\n",
        "  line = line.lower()     #lowercasing all elements\n",
        "  words = line.split(\" \")\n",
        "  for word in words:\n",
        "    if word in poem:\n",
        "      poem[word] = poem[word]+1   #if word present and more to it\n",
        "    else:\n",
        "      poem[word]=1                 #else add word to poem\n",
        "\n",
        "for key in list(poem.keys()):     #contains the keys of the dictionary\n",
        "  print(key,\":\",poem[key])"
      ]
    },
    {
      "cell_type": "code",
      "execution_count": null,
      "metadata": {
        "id": "GOvL1ybTg_GU"
      },
      "outputs": [],
      "source": []
    },
    {
      "cell_type": "markdown",
      "metadata": {
        "id": "C-196Gzshon_"
      },
      "source": []
    }
  ],
  "metadata": {
    "colab": {
      "provenance": []
    },
    "kernelspec": {
      "display_name": "Python 3.10.7 64-bit (microsoft store)",
      "language": "python",
      "name": "python3"
    },
    "language_info": {
      "name": "python",
      "version": "3.10.7"
    },
    "vscode": {
      "interpreter": {
        "hash": "9ff29ec90039eed23207186706e5f410a658cbd9bc5b0ff5fb0e10121cf7ac8f"
      }
    }
  },
  "nbformat": 4,
  "nbformat_minor": 0
}
